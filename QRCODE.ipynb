{
  "nbformat": 4,
  "nbformat_minor": 0,
  "metadata": {
    "colab": {
      "name": "QRCODE.ipynb",
      "provenance": [],
      "collapsed_sections": [],
      "authorship_tag": "ABX9TyPBFMvEFu4ZhdQ7sfpl3kwj",
      "include_colab_link": true
    },
    "kernelspec": {
      "name": "python3",
      "display_name": "Python 3"
    },
    "language_info": {
      "name": "python"
    }
  },
  "cells": [
    {
      "cell_type": "markdown",
      "metadata": {
        "id": "view-in-github",
        "colab_type": "text"
      },
      "source": [
        "<a href=\"https://colab.research.google.com/github/ManchikantiNehanjali/Pencil-sketch/blob/main/QRCODE.ipynb\" target=\"_parent\"><img src=\"https://colab.research.google.com/assets/colab-badge.svg\" alt=\"Open In Colab\"/></a>"
      ]
    },
    {
      "cell_type": "code",
      "metadata": {
        "colab": {
          "base_uri": "https://localhost:8080/"
        },
        "id": "3ANcNCgBlzMJ",
        "outputId": "e99538b5-13a6-4d13-c203-288a3cf41286"
      },
      "source": [
        "!pip install qrcode"
      ],
      "execution_count": 6,
      "outputs": [
        {
          "output_type": "stream",
          "name": "stdout",
          "text": [
            "Collecting qrcode\n",
            "  Downloading qrcode-7.3.1.tar.gz (43 kB)\n",
            "\u001b[?25l\r\u001b[K     |███████▌                        | 10 kB 15.4 MB/s eta 0:00:01\r\u001b[K     |███████████████                 | 20 kB 20.8 MB/s eta 0:00:01\r\u001b[K     |██████████████████████▋         | 30 kB 23.1 MB/s eta 0:00:01\r\u001b[K     |██████████████████████████████▏ | 40 kB 25.9 MB/s eta 0:00:01\r\u001b[K     |████████████████████████████████| 43 kB 1.5 MB/s \n",
            "\u001b[?25hBuilding wheels for collected packages: qrcode\n",
            "  Building wheel for qrcode (setup.py) ... \u001b[?25l\u001b[?25hdone\n",
            "  Created wheel for qrcode: filename=qrcode-7.3.1-py3-none-any.whl size=40401 sha256=8a2921b6538c17e88fc1ee9321ee61e7f207d20ac56b3046a125f41f981158b7\n",
            "  Stored in directory: /root/.cache/pip/wheels/93/d7/39/a4111be2cfb8e679938aa671a37888b6afb1f9e7d748e94492\n",
            "Successfully built qrcode\n",
            "Installing collected packages: qrcode\n",
            "Successfully installed qrcode-7.3.1\n"
          ]
        }
      ]
    },
    {
      "cell_type": "code",
      "metadata": {
        "colab": {
          "base_uri": "https://localhost:8080/"
        },
        "id": "1YfqanYDl2hD",
        "outputId": "73ac5c82-6d66-4bf0-fc45-fb30958219fc"
      },
      "source": [
        "!pip install image"
      ],
      "execution_count": 7,
      "outputs": [
        {
          "output_type": "stream",
          "name": "stdout",
          "text": [
            "Collecting image\n",
            "  Downloading image-1.5.33.tar.gz (15 kB)\n",
            "Requirement already satisfied: pillow in /usr/local/lib/python3.7/dist-packages (from image) (7.1.2)\n",
            "Collecting django\n",
            "  Downloading Django-3.2.9-py3-none-any.whl (7.9 MB)\n",
            "\u001b[K     |████████████████████████████████| 7.9 MB 33.6 MB/s \n",
            "\u001b[?25hRequirement already satisfied: six in /usr/local/lib/python3.7/dist-packages (from image) (1.15.0)\n",
            "Requirement already satisfied: pytz in /usr/local/lib/python3.7/dist-packages (from django->image) (2018.9)\n",
            "Requirement already satisfied: sqlparse>=0.2.2 in /usr/local/lib/python3.7/dist-packages (from django->image) (0.4.2)\n",
            "Collecting asgiref<4,>=3.3.2\n",
            "  Downloading asgiref-3.4.1-py3-none-any.whl (25 kB)\n",
            "Requirement already satisfied: typing-extensions in /usr/local/lib/python3.7/dist-packages (from asgiref<4,>=3.3.2->django->image) (3.10.0.2)\n",
            "Building wheels for collected packages: image\n",
            "  Building wheel for image (setup.py) ... \u001b[?25l\u001b[?25hdone\n",
            "  Created wheel for image: filename=image-1.5.33-py2.py3-none-any.whl size=19494 sha256=5a5adf5a14ab98750af3fa32e68b3ff63c270ba793b3e9284898261c09c7df43\n",
            "  Stored in directory: /root/.cache/pip/wheels/56/88/e6/897194cfe8c08a8b9afd881d3bf53d102e13fa39607d721383\n",
            "Successfully built image\n",
            "Installing collected packages: asgiref, django, image\n",
            "Successfully installed asgiref-3.4.1 django-3.2.9 image-1.5.33\n"
          ]
        }
      ]
    },
    {
      "cell_type": "code",
      "metadata": {
        "colab": {
          "base_uri": "https://localhost:8080/",
          "height": 886
        },
        "id": "s0WVuEGvl2oQ",
        "outputId": "809fca40-282e-4217-b10f-ddb27ef85619"
      },
      "source": [
        "import qrcode\n",
        "import image\n",
        "qr=qrcode.QRCode(\n",
        "    version=15,\n",
        "    box_size=\"10\",\n",
        "    border=5\n",
        ")\n",
        "data=\"https://www.hackerrank.com/challenges/flatland-space-stations/problem?isFullScreen=false\"\n",
        "qr.add_data(data)\n",
        "qr.make(fit=True)\n",
        "img=qr.make_image(fill=\"black\",black_color=\"white\")\n",
        "img.save(\"test.png\")\n",
        "img"
      ],
      "execution_count": 10,
      "outputs": [
        {
          "output_type": "execute_result",
          "data": {
            "image/png": "[encoded data removed]",
            "text/plain": [
              "<qrcode.image.pil.PilImage at 0x7ff246ec4b90>"
            ]
          },
          "metadata": {},
          "execution_count": 10
        }
      ]
    },
    {
      "cell_type": "code",
      "metadata": {
        "id": "xJ9neksml2tF"
      },
      "source": [
        ""
      ],
      "execution_count": null,
      "outputs": []
    },
    {
      "cell_type": "code",
      "metadata": {
        "id": "2Gdqz10Ml2w7"
      },
      "source": [
        ""
      ],
      "execution_count": null,
      "outputs": []
    }
  ]
}