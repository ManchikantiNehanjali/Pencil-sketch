{
  "nbformat": 4,
  "nbformat_minor": 0,
  "metadata": {
    "colab": {
      "name": "Track Phone Number.ipynb",
      "provenance": [],
      "authorship_tag": "ABX9TyOoaIR25CAYwOhs4EQb9knr",
      "include_colab_link": true
    },
    "kernelspec": {
      "name": "python3",
      "display_name": "Python 3"
    },
    "language_info": {
      "name": "python"
    }
  },
  "cells": [
    {
      "cell_type": "markdown",
      "metadata": {
        "id": "view-in-github",
        "colab_type": "text"
      },
      "source": [
        "<a href=\"https://colab.research.google.com/github/ManchikantiNehanjali/Pencil-sketch/blob/main/Track_Phone_Number.ipynb\" target=\"_parent\"><img src=\"https://colab.research.google.com/assets/colab-badge.svg\" alt=\"Open In Colab\"/></a>"
      ]
    },
    {
      "cell_type": "code",
      "metadata": {
        "colab": {
          "base_uri": "https://localhost:8080/"
        },
        "id": "wblccGtkvvu6",
        "outputId": "b634b121-4b8d-42c7-b6ce-e268399833bd"
      },
      "source": [
        "!pip install phonenumbers"
      ],
      "execution_count": 17,
      "outputs": [
        {
          "output_type": "stream",
          "name": "stdout",
          "text": [
            "Requirement already satisfied: phonenumbers in /usr/local/lib/python3.7/dist-packages (8.12.38)\n"
          ]
        }
      ]
    },
    {
      "cell_type": "code",
      "metadata": {
        "colab": {
          "base_uri": "https://localhost:8080/"
        },
        "id": "-mi2-nycrQEl",
        "outputId": "ac6f6c45-b54a-434c-d182-45aefc49c1f4"
      },
      "source": [
        "import phonenumbers\n",
        "number=\"+919988876210\"\n",
        "\n",
        "from phonenumbers import geocoder\n",
        "ch_number = phonenumbers.parse(number,\"CH\")\n",
        "print(geocoder.description_for_number(ch_number,\"en\"))\n",
        "\n",
        "from phonenumbers import carrier\n",
        "service_number=phonenumbers.parse(number,\"RO\")\n",
        "print(carrier.name_for_number(service_number,\"en\"))"
      ],
      "execution_count": 21,
      "outputs": [
        {
          "output_type": "stream",
          "name": "stdout",
          "text": [
            "India\n",
            "Vodafone\n"
          ]
        }
      ]
    },
    {
      "cell_type": "code",
      "metadata": {
        "id": "fVxPWvsyvtKF"
      },
      "source": [
        ""
      ],
      "execution_count": null,
      "outputs": []
    },
    {
      "cell_type": "code",
      "metadata": {
        "id": "UV7ypJM-rSDw"
      },
      "source": [
        ""
      ],
      "execution_count": null,
      "outputs": []
    },
    {
      "cell_type": "code",
      "metadata": {
        "id": "Mj8FpIfTrSIR"
      },
      "source": [
        ""
      ],
      "execution_count": null,
      "outputs": []
    },
    {
      "cell_type": "code",
      "metadata": {
        "id": "SOz4L5UUrSNc"
      },
      "source": [
        ""
      ],
      "execution_count": null,
      "outputs": []
    },
    {
      "cell_type": "code",
      "metadata": {
        "id": "Td1nRCUSrSTX"
      },
      "source": [
        ""
      ],
      "execution_count": null,
      "outputs": []
    },
    {
      "cell_type": "code",
      "metadata": {
        "id": "m4w8sltHrSYe"
      },
      "source": [
        ""
      ],
      "execution_count": null,
      "outputs": []
    }
  ]
}